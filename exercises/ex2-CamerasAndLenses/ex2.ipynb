{
 "cells": [
  {
   "cell_type": "code",
   "execution_count": 2,
   "metadata": {},
   "outputs": [],
   "source": [
    "import math"
   ]
  },
  {
   "cell_type": "code",
   "execution_count": 16,
   "metadata": {},
   "outputs": [
    {
     "data": {
      "text/plain": [
       "0.2914567944778671"
      ]
     },
     "execution_count": 16,
     "metadata": {},
     "output_type": "execute_result"
    }
   ],
   "source": [
    "# Ex1\n",
    "a,b = 10,3\n",
    "\n",
    "theta = math.atan2(b,a)\n",
    "theta"
   ]
  },
  {
   "cell_type": "code",
   "execution_count": 19,
   "metadata": {},
   "outputs": [
    {
     "name": "stdout",
     "output_type": "stream",
     "text": [
      "g=100 b=17.647058823529413\n",
      "g=1000 b=15.228426395939087\n",
      "g=5000 b=15.045135406218657\n",
      "g=15000 b=15.015015015015017\n"
     ]
    }
   ],
   "source": [
    "def camera_b_distance(f,g):\n",
    "    '''return b as derived from this equation 1/g + 1/b = 1/f\n",
    "    (The Gauss lens equation)'''\n",
    "    return 1/(1/f - 1/g)\n",
    "\n",
    "g_distances = (100, 1000, 5000, 15000)\n",
    "\n",
    "for g in g_distances:\n",
    "    b = camera_b_distance(f=15, g=g)\n",
    "    print(f'g={g} b={b}')\n",
    "\n"
   ]
  }
 ],
 "metadata": {
  "kernelspec": {
   "display_name": "cource02502",
   "language": "python",
   "name": "python3"
  },
  "language_info": {
   "codemirror_mode": {
    "name": "ipython",
    "version": 3
   },
   "file_extension": ".py",
   "mimetype": "text/x-python",
   "name": "python",
   "nbconvert_exporter": "python",
   "pygments_lexer": "ipython3",
   "version": "3.11.7"
  }
 },
 "nbformat": 4,
 "nbformat_minor": 2
}
